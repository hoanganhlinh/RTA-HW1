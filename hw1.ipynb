{
 "cells": [
  {
   "cell_type": "code",
   "execution_count": 155,
   "metadata": {},
   "outputs": [
    {
     "name": "stdout",
     "output_type": "stream",
     "text": [
      "Overwriting app.py\n"
     ]
    }
   ],
   "source": [
    "%%file app.py\n",
    "from flask import Flask, jsonify, request\n",
    "\n",
    "app = Flask(__name__)\n",
    "\n",
    "@app.route('/')\n",
    "def home():\n",
    "    return \"Witaj w moim API!!! :3\"\n",
    "\n",
    "@app.route('/api/v1.0/predict', methods=['GET'])\n",
    "def predict():\n",
    "    num1 = request.args.get(\"num1\", \"\")\n",
    "    num2 = request.args.get(\"num2\", \"\")\n",
    "\n",
    "    if not num1:\n",
    "        num1 = 0\n",
    "    if not num2:\n",
    "        num2 = 0\n",
    "\n",
    "    num1 = float(num1)\n",
    "    num2 = float(num2)\n",
    "\n",
    "    resp = (num1+num2 > 5.8)*1\n",
    "\n",
    "    return jsonify({\"prediction\": resp}, {\"features\": {\"num1\": num1, \"num2\": num2}})\n",
    "\n",
    "if __name__ == '__main__':\n",
    "    app.run(port=5005)\n",
    "    # app.run(port=5000)"
   ]
  },
  {
   "cell_type": "code",
   "execution_count": 157,
   "metadata": {},
   "outputs": [
    {
     "name": "stdout",
     "output_type": "stream",
     "text": [
      "[{'prediction': 1}, {'features': {'num1': 100.0, 'num2': 0.0}}]\n"
     ]
    }
   ],
   "source": [
    "import subprocess\n",
    "import requests\n",
    "\n",
    "p = subprocess.Popen([\"python\", \"app.py\"])\n",
    "\n",
    "# response = requests.get(\"http://127.0.0.1:5005\")\n",
    "# print(response.content)\n",
    "\n",
    "response = requests.get(\"http://127.0.0.1:5005/api/v1.0/predict?num1=100\")\n",
    "print(response.json())\n",
    "\n",
    "p.kill()"
   ]
  },
  {
   "cell_type": "code",
   "execution_count": 158,
   "metadata": {},
   "outputs": [
    {
     "name": "stdout",
     "output_type": "stream",
     "text": [
      "Overwriting requirements.txt\n"
     ]
    }
   ],
   "source": [
    "%%file requirements.txt\n",
    "Flask==3.0.1"
   ]
  },
  {
   "cell_type": "code",
   "execution_count": 159,
   "metadata": {},
   "outputs": [
    {
     "name": "stdout",
     "output_type": "stream",
     "text": [
      "Overwriting Dockerfile\n"
     ]
    }
   ],
   "source": [
    "%%file Dockerfile\n",
    "FROM python:3.11-slim-buster\n",
    "\n",
    "WORKDIR /app\n",
    "\n",
    "COPY requirements.txt requirements.txt\n",
    "\n",
    "RUN pip install -r requirements.txt\n",
    "\n",
    "COPY app.py .\n",
    "\n",
    "ENV FLASK_APP=app\n",
    "\n",
    "EXPOSE 5005\n",
    "CMD [\"flask\", \"run\", \"--host\", \"0.0.0.0\", \"--port\", \"5005\"]"
   ]
  }
 ],
 "metadata": {
  "kernelspec": {
   "display_name": ".venv",
   "language": "python",
   "name": "python3"
  },
  "language_info": {
   "codemirror_mode": {
    "name": "ipython",
    "version": 3
   },
   "file_extension": ".py",
   "mimetype": "text/x-python",
   "name": "python",
   "nbconvert_exporter": "python",
   "pygments_lexer": "ipython3",
   "version": "3.9.13"
  }
 },
 "nbformat": 4,
 "nbformat_minor": 2
}
